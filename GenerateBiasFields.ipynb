{
  "cells": [
    {
      "cell_type": "markdown",
      "metadata": {
        "id": "8SRMa24rvmK9"
      },
      "source": [
        "Notebook By: **Cameron Craig**, for ECE 697"
      ]
    },
    {
      "cell_type": "markdown",
      "metadata": {
        "id": "1rWTWk7Rupow"
      },
      "source": [
        "This python notebook generates a preset number of synthetic \"Bias Fields.\" These fields will be saved as pickled numpy arrays (yum). These arrays will go on to be read by a Pytorch Dataset object, where they will be multiplied by homogeneous MRI images to simulate the effect of a single posterior coil array capturing the data."
      ]
    },
    {
      "cell_type": "code",
      "execution_count": 1,
      "metadata": {
        "id": "ut_pZNLqv-Fn"
      },
      "outputs": [],
      "source": [
        "import os\n",
        "import numpy as np\n",
        "import matplotlib.pyplot as plt\n",
        "import pickle as pkl\n",
        "from tqdm import tqdm\n",
        "from joblib import Parallel, delayed\n",
        "import random"
      ]
    },
    {
      "cell_type": "markdown",
      "metadata": {
        "id": "-wby9MWPvz_1"
      },
      "source": [
        "---"
      ]
    },
    {
      "cell_type": "code",
      "execution_count": 2,
      "metadata": {
        "id": "kwTa6h3LuZHY"
      },
      "outputs": [],
      "source": [
        "# Fixed Model Parameters\n",
        "SIZE = (320, 320) # (Height, Width) of the generated bias field\n",
        "num_points = 60 # resolution of the simulated coil array\n",
        "\n",
        "# Exponential Curve Parameters - Based on Physical Measurements - No longer used\n",
        "'''\n",
        "a = 0.373662089\n",
        "b = 0.0294170684\n",
        "c = 57.7187808\n",
        "d = 0.1090366275\n",
        "'''\n",
        "\n",
        "# Uniform Random Variable Bounds\n",
        "LOW_BOOST_BOUNDS = (0, 0.2)\n",
        "COIL_VERT_POS_BOUNDS = (SIZE[0] - 1, SIZE[0] * 1.2)\n",
        "PARAM_B_ADJUST_BOUNDS = (-0.02, 0.02)\n",
        "COIL_WIDTH_BOUNDS = (0.1, 0.4)"
      ]
    },
    {
      "cell_type": "code",
      "execution_count": 3,
      "metadata": {
        "id": "4rLbXMz7wHZK"
      },
      "outputs": [],
      "source": [
        "# Helper Functions\n",
        "\n",
        "# Parameterized exponential decay function - No longer used\n",
        "#def exp_dec(x, a, b, c, d):\n",
        "#  return a*(1 - b)**(x - c) + d\n",
        "\n",
        "# Inverse square decay function - Values selected based on analysis of experimental results\n",
        "def poly_dec(x):\n",
        "  return 1927.5 * (x + 37)**-2.093\n",
        "\n",
        "# Normalize pixel values to the range [0, 1]\n",
        "def normalize(image):\n",
        "  new_image = image - np.min(image)\n",
        "  return new_image / np.max(new_image)\n",
        "\n",
        "# Obtain a sample of a uniform random variable on the specified bounds\n",
        "def sampleRV(BOUNDS):\n",
        "  return np.random.uniform(BOUNDS[0], BOUNDS[1])"
      ]
    },
    {
      "cell_type": "code",
      "execution_count": 4,
      "metadata": {
        "colab": {
          "base_uri": "https://localhost:8080/"
        },
        "id": "7iZT2zUm0D88",
        "outputId": "e4d31cad-9396-4c94-f39c-928573384245"
      },
      "outputs": [
        {
          "output_type": "execute_result",
          "data": {
            "text/plain": [
              "1.0063479778204567"
            ]
          },
          "metadata": {},
          "execution_count": 4
        }
      ],
      "source": [
        "# Test run\n",
        "poly_dec(0)"
      ]
    },
    {
      "cell_type": "code",
      "execution_count": 5,
      "metadata": {
        "id": "j03DeE2AymSb"
      },
      "outputs": [],
      "source": [
        "#Create a Bias Field\n",
        "def genBiasField(SIZE, coil_left, coil_right, coil_vert_pos, low_boost):\n",
        "  global a, b, c, d\n",
        "\n",
        "  # Define Coil Shape\n",
        "  cx = np.linspace(round(SIZE[1]*coil_left), round(SIZE[1]*coil_right), num=num_points) # Horizontal coordinates\n",
        "\n",
        "  # Put coil array at or below bottom edge of bias field\n",
        "  y_pos = round(coil_vert_pos)\n",
        "  cy = np.linspace(y_pos, y_pos, num=num_points) # Vertical coordinates\n",
        "\n",
        "  coils = np.stack([cy, cx], axis=0).T # Reshape to prepare for arithmetic operations\n",
        "\n",
        "  B = np.zeros(SIZE)\n",
        "  dists = np.zeros((coils.shape[0],)) # Distances between coil points and field points\n",
        "\n",
        "  # Loop over all pixels in B\n",
        "  for i in range(B.shape[0]):\n",
        "    for j in range(B.shape[1]):\n",
        "      # Stack of copies of this point's coordinates\n",
        "      p = np.array([i, j])\n",
        "      p = np.tile(p, (num_points, 1))\n",
        "\n",
        "      # Get the distance between this point and the closest coil point\n",
        "      dist = np.min(np.linalg.norm(coils - p, axis=1))\n",
        "\n",
        "      # Simulate exponential falloff\n",
        "      #B[i, j] = exp_dec(dist, a, local_b, c, d) - no longer used\n",
        "      B[i, j] = poly_dec(dist)\n",
        "  \n",
        "  # Normalize B on range [0, 1]\n",
        "  B_norm = normalize(B)\n",
        "\n",
        "  # Scale up / boost the weak end intensity of the field\n",
        "  B_boosted = B_norm * (1 - low_boost) + low_boost\n",
        "\n",
        "  return B_boosted"
      ]
    },
    {
      "cell_type": "code",
      "execution_count": 6,
      "metadata": {
        "id": "eKRFpUOZiUm0"
      },
      "outputs": [],
      "source": [
        "# This function generates a more complicated bias field by combining multiple simpler bias fields\n",
        "def genCompositeField(SIZE):\n",
        "  num_coils = random.randint(1, 3)\n",
        "\n",
        "  coil_width = sampleRV(COIL_WIDTH_BOUNDS)\n",
        "\n",
        "  # If there will only be 1 coil then we want it to be a little wider for realism\n",
        "  if num_coils == 1:\n",
        "    coil_width += 0.1\n",
        "  \n",
        "  # set the horizontal extent of coil array\n",
        "  coil_left_bound, coil_right_bound = 0.5 - coil_width, 0.5 + coil_width\n",
        "\n",
        "  # allocate space for each individual field\n",
        "  sub_fields = np.zeros((num_coils, SIZE[0], SIZE[1]))\n",
        "\n",
        "  # set/sample parameter values for field generation\n",
        "  c_fraction = 1. / num_coils\n",
        "  vert_pos = sampleRV(COIL_VERT_POS_BOUNDS)\n",
        "  low_boost = sampleRV(LOW_BOOST_BOUNDS)\n",
        "\n",
        "  # Generate each sub-field\n",
        "  for i in range(num_coils):\n",
        "    sub_fields[i, :, :] = genBiasField(SIZE, coil_left_bound*c_fraction + i*c_fraction, coil_right_bound*c_fraction + i*c_fraction, vert_pos, low_boost)\n",
        "\n",
        "  # Average the sub-fields together to create one composite field\n",
        "  return sub_fields.mean(axis=0)"
      ]
    },
    {
      "cell_type": "code",
      "execution_count": 8,
      "metadata": {
        "colab": {
          "base_uri": "https://localhost:8080/",
          "height": 286
        },
        "id": "IKlIyaO-2LeJ",
        "outputId": "44240203-3c77-498c-bf38-e72fdfcc204d"
      },
      "outputs": [
        {
          "output_type": "execute_result",
          "data": {
            "text/plain": [
              "<matplotlib.image.AxesImage at 0x7f556d2e21d0>"
            ]
          },
          "metadata": {},
          "execution_count": 8
        },
        {
          "output_type": "display_data",
          "data": {
            "text/plain": [
              "<Figure size 432x288 with 1 Axes>"
            ],
            "image/png": "[encoded data removed]"
          },
          "metadata": {
            "needs_background": "light"
          }
        }
      ],
      "source": [
        "# Create and view a sample composite bias field\n",
        "num_coils = random.randint(1, 3)\n",
        "\n",
        "coil_width = sampleRV(COIL_WIDTH_BOUNDS)\n",
        "if num_coils == 1:\n",
        "  coil_width += 0.1\n",
        "coil_left_bound, coil_right_bound = 0.5 - coil_width, 0.5 + coil_width # horizontal extent of coil array\n",
        "sub_fields = np.zeros((num_coils, SIZE[0], SIZE[1]))\n",
        "c_fraction = 1. / num_coils\n",
        "vert_pos = sampleRV(COIL_VERT_POS_BOUNDS)\n",
        "low_boost = sampleRV(LOW_BOOST_BOUNDS)\n",
        "\n",
        "for i in range(num_coils):\n",
        "  sub_fields[i, :, :] = genBiasField(SIZE, coil_left_bound*c_fraction + i*c_fraction, coil_right_bound*c_fraction + i*c_fraction, vert_pos, low_boost)\n",
        "\n",
        "B = sub_fields.mean(axis=0)\n",
        "\n",
        "\n",
        "plt.imshow(B, cmap='gray', vmin=0, vmax=1)"
      ]
    },
    {
      "cell_type": "code",
      "execution_count": null,
      "metadata": {
        "colab": {
          "base_uri": "https://localhost:8080/"
        },
        "id": "jTA8DmcA24BL",
        "outputId": "250dda37-3143-487f-b7fe-b8d0a2143140"
      },
      "outputs": [
        {
          "name": "stderr",
          "output_type": "stream",
          "text": [
            "100%|██████████| 5000/5000 [2:02:30<00:00,  1.47s/it]\n"
          ]
        }
      ],
      "source": [
        "# Generate bias field samples for training\n",
        "NUM_FIELDS = 5000\n",
        "\n",
        "#!mkdir ./fields\n",
        "dir_path = r'/content/drive/MyDrive/Summer 2022/ECE 697/Project/share/data/synth_bias_fields'\n",
        "\n",
        "\n",
        "fields = Parallel(n_jobs=12)(delayed(genCompositeField)(SIZE) for i in tqdm(range(NUM_FIELDS)))\n",
        "\n",
        "\n",
        "with open(os.path.join(dir_path, 'fields_5k_poly_train.pkl'), 'wb') as curr_file:\n",
        "  pkl.dump(fields, curr_file)"
      ]
    },
    {
      "cell_type": "code",
      "execution_count": null,
      "metadata": {
        "colab": {
          "base_uri": "https://localhost:8080/"
        },
        "id": "Ir9-B131AA9a",
        "outputId": "a2f509c6-9b2c-449d-c674-c73074106544"
      },
      "outputs": [
        {
          "name": "stderr",
          "output_type": "stream",
          "text": [
            "100%|██████████| 5000/5000 [2:04:21<00:00,  1.49s/it]\n"
          ]
        }
      ],
      "source": [
        "# Generate bias field samples for validation\n",
        "NUM_FIELDS = 5000\n",
        "\n",
        "#!mkdir ./fields\n",
        "dir_path = r'/content/drive/MyDrive/Summer 2022/ECE 697/Project/share/data/synth_bias_fields'\n",
        "\n",
        "\n",
        "fields = Parallel(n_jobs=12)(delayed(genCompositeField)(SIZE) for i in tqdm(range(NUM_FIELDS)))\n",
        "\n",
        "\n",
        "with open(os.path.join(dir_path, 'fields_5k_poly_val.pkl'), 'wb') as curr_file:\n",
        "  pkl.dump(fields, curr_file)"
      ]
    },
    {
      "cell_type": "code",
      "execution_count": null,
      "metadata": {
        "colab": {
          "background_save": true,
          "base_uri": "https://localhost:8080/"
        },
        "id": "ZjpVDAsBPigq",
        "outputId": "585a224a-b7e2-4046-ef73-538d723f20b5"
      },
      "outputs": [
        {
          "name": "stderr",
          "output_type": "stream",
          "text": [
            "100%|██████████| 5000/5000 [2:04:16<00:00,  1.49s/it]\n"
          ]
        }
      ],
      "source": [
        "# Generate bias field samples for testing\n",
        "NUM_FIELDS = 5000\n",
        "\n",
        "#!mkdir ./fields\n",
        "dir_path = r'/content/drive/MyDrive/Summer 2022/ECE 697/Project/share/data/synth_bias_fields'\n",
        "\n",
        "\n",
        "fields = Parallel(n_jobs=12)(delayed(genCompositeField)(SIZE) for i in tqdm(range(NUM_FIELDS)))\n",
        "\n",
        "\n",
        "with open(os.path.join(dir_path, 'fields_5k_poly_test.pkl'), 'wb') as curr_file:\n",
        "  pkl.dump(fields, curr_file)"
      ]
    },
    {
      "cell_type": "markdown",
      "source": [
        "Generate smaller number of fields as a sample to upload to Github."
      ],
      "metadata": {
        "id": "DrdWVvKnoadK"
      }
    },
    {
      "cell_type": "code",
      "source": [
        "# Generate bias field samples for Github upload\n",
        "NUM_FIELDS = 25\n",
        "\n",
        "#!mkdir ./fields\n",
        "dir_path = r'/content/'\n",
        "\n",
        "\n",
        "fields = Parallel(n_jobs=12)(delayed(genCompositeField)(SIZE) for i in tqdm(range(NUM_FIELDS)))\n",
        "\n",
        "\n",
        "with open(os.path.join(dir_path, '25_sample_synth_bias_fields.pkl'), 'wb') as curr_file:\n",
        "  pkl.dump(fields, curr_file)"
      ],
      "metadata": {
        "colab": {
          "base_uri": "https://localhost:8080/"
        },
        "id": "fV3x7KnFogD3",
        "outputId": "76855879-72f6-468c-f396-bb7eadec9bef"
      },
      "execution_count": 9,
      "outputs": [
        {
          "output_type": "stream",
          "name": "stderr",
          "text": [
            "100%|██████████| 25/25 [00:09<00:00,  2.74it/s]\n"
          ]
        }
      ]
    }
  ],
  "metadata": {
    "colab": {
      "background_execution": "on",
      "machine_shape": "hm",
      "name": "GenerateBiasFields.ipynb",
      "provenance": []
    },
    "gpuClass": "standard",
    "kernelspec": {
      "display_name": "Python 3",
      "name": "python3"
    },
    "language_info": {
      "name": "python"
    }
  },
  "nbformat": 4,
  "nbformat_minor": 0
}