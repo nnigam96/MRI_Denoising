{
  "nbformat": 4,
  "nbformat_minor": 0,
  "metadata": {
    "colab": {
      "name": "GenerateBiasFields.ipynb",
      "provenance": []
    },
    "kernelspec": {
      "name": "python3",
      "display_name": "Python 3"
    },
    "language_info": {
      "name": "python"
    }
  },
  "cells": [
    {
      "cell_type": "markdown",
      "source": [
        "Notebook By: **Cameron Craig**, for ECE 697"
      ],
      "metadata": {
        "id": "8SRMa24rvmK9"
      }
    },
    {
      "cell_type": "markdown",
      "source": [
        "This python notebook generates a preset number of synthetic \"Bias Fields.\" These fields will be saved as pickled numpy arrays (yum). These arrays will go on to be read by a Pytorch Dataset object, where they will be multiplied by homogeneous MRI images to simulate the effect of a single posterior coil array capturing the data."
      ],
      "metadata": {
        "id": "1rWTWk7Rupow"
      }
    },
    {
      "cell_type": "code",
      "source": [
        "import os\n",
        "import numpy as np\n",
        "import matplotlib.pyplot as plt\n",
        "import pickle as pkl"
      ],
      "metadata": {
        "id": "ut_pZNLqv-Fn"
      },
      "execution_count": 1,
      "outputs": []
    },
    {
      "cell_type": "markdown",
      "source": [
        "---"
      ],
      "metadata": {
        "id": "-wby9MWPvz_1"
      }
    },
    {
      "cell_type": "code",
      "execution_count": 3,
      "metadata": {
        "id": "kwTa6h3LuZHY"
      },
      "outputs": [],
      "source": [
        "# Fixed Model Parameters\n",
        "SIZE = (320, 320) # (Height, Width) of the generated bias field\n",
        "num_points = 250 # resolution of the simulated coil array\n",
        "coil_left, coil_right = round(SIZE[1]*0.1), round(SIZE[1]*0.9) # horizontal extent of coil array\n",
        "\n",
        "\n",
        "# Exponential Curve Parameters - Based on Physical Measurements\n",
        "a = 0.373662089\n",
        "b = 0.0294170684\n",
        "c = 57.7187808\n",
        "d = 0.1090366275\n",
        "\n",
        "# Uniform Random Variable Bounds\n",
        "LOW_BOOST_BOUNDS = (0, 0.1)\n",
        "COIL_VERT_POS_BOUNDS = (SIZE[0] - 1, SIZE[0] * 1.3)\n",
        "PARAM_B_ADJUST_BOUNDS = (-0.02, 0.02)"
      ]
    },
    {
      "cell_type": "code",
      "source": [
        "# Helper Functions\n",
        "\n",
        "# Parameterized exponential decay function\n",
        "def exp_dec(x, a, b, c, d):\n",
        "  return a*(1 - b)**(x - c) + d\n",
        "\n",
        "# Normalize pixel values to the range [0, 1]\n",
        "def normalize(image):\n",
        "  new_image = image - np.min(image)\n",
        "  return new_image / np.max(new_image)\n",
        "\n",
        "# Obtain a sample of a uniform random variable on the specified bounds\n",
        "def sampleRV(BOUNDS):\n",
        "  return np.random.uniform(BOUNDS[0], BOUNDS[1])"
      ],
      "metadata": {
        "id": "4rLbXMz7wHZK"
      },
      "execution_count": 4,
      "outputs": []
    },
    {
      "cell_type": "code",
      "source": [
        "#Create a Bias Field\n",
        "def genBiasField(SIZE):\n",
        "  global a, b, c, d\n",
        "\n",
        "  # Define Coil Shape\n",
        "  cx = np.linspace(coil_left, coil_right, num=num_points) # Horizontal coordinates\n",
        "\n",
        "  # Put coil array at or below bottom edge of bias field\n",
        "  y_pos = round(sampleRV(COIL_VERT_POS_BOUNDS))\n",
        "  cy = np.linspace(y_pos, y_pos, num=num_points) # Vertical coordinates\n",
        "\n",
        "  coils = np.stack([cy, cx], axis=0).T # Reshape to prepare for arithmetic operations\n",
        "\n",
        "  B = np.zeros(SIZE)\n",
        "  dists = np.zeros((coils.shape[0],)) # Distances between coil points and field points\n",
        "\n",
        "  # Exponential curve random perturbations\n",
        "  local_b = b + sampleRV(PARAM_B_ADJUST_BOUNDS)\n",
        "\n",
        "  # Loop over all pixels in B\n",
        "  for i in range(B.shape[0]):\n",
        "    for j in range(B.shape[1]):\n",
        "      # Stack of copies of this point's coordinates\n",
        "      p = np.array([i, j])\n",
        "      p = np.tile(p, (num_points, 1))\n",
        "\n",
        "      # Get the distance between this point and the closest coil point\n",
        "      dist = np.min(np.linalg.norm(coils - p, axis=1))\n",
        "\n",
        "      # Simulate exponential falloff\n",
        "      B[i, j] = exp_dec(dist, a, local_b, c, d)\n",
        "  \n",
        "  # Normalize B on range [0, 1]\n",
        "  B_norm = normalize(B)\n",
        "\n",
        "  # Scale up / boost the weak end intensity of the field\n",
        "  low_boost = sampleRV(LOW_BOOST_BOUNDS)\n",
        "  B_boosted = B_norm * (1 - low_boost) + low_boost\n",
        "\n",
        "  return B_boosted"
      ],
      "metadata": {
        "id": "j03DeE2AymSb"
      },
      "execution_count": 5,
      "outputs": []
    },
    {
      "cell_type": "code",
      "source": [
        "# View a sample\n",
        "B = genBiasField(SIZE)\n",
        "plt.imshow(B, cmap='gray', vmin=0, vmax=1)"
      ],
      "metadata": {
        "colab": {
          "base_uri": "https://localhost:8080/",
          "height": 286
        },
        "id": "IKlIyaO-2LeJ",
        "outputId": "43f0a430-770f-4e74-dc93-adb45e74fd14"
      },
      "execution_count": 6,
      "outputs": [
        {
          "output_type": "execute_result",
          "data": {
            "text/plain": [
              "<matplotlib.image.AxesImage at 0x7fed10816a10>"
            ]
          },
          "metadata": {},
          "execution_count": 6
        },
        {
          "output_type": "display_data",
          "data": {
            "text/plain": [
              "<Figure size 432x288 with 1 Axes>"
            ],
            "image/png": "[encoded data removed]"
          },
          "metadata": {
            "needs_background": "light"
          }
        }
      ]
    },
    {
      "cell_type": "code",
      "source": [
        "# Generate bias field samples for training\n",
        "NUM_FIELDS = 20\n",
        "\n",
        "!mkdir ./fields\n",
        "dir_path = r'./fields'\n",
        "\n",
        "for i in range(NUM_FIELDS):\n",
        "  B = genBiasField(SIZE)\n",
        "  with open(os.path.join(dir_path, 'B_' + str(i) + '.pkl'), 'wb') as curr_file:\n",
        "    pkl.dump(B, curr_file)"
      ],
      "metadata": {
        "id": "jTA8DmcA24BL"
      },
      "execution_count": null,
      "outputs": []
    }
  ]
}