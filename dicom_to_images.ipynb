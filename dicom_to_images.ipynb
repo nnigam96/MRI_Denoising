{
  "nbformat": 4,
  "nbformat_minor": 0,
  "metadata": {
    "colab": {
      "name": "dicom_to_images.ipynb",
      "provenance": [],
      "mount_file_id": "1_L7wlV7jIn35o0duZCfARhts1xzCtAi-",
      "authorship_tag": "ABX9TyM4ycaRDN2SFw/Cwy6PCrn8",
      "include_colab_link": true
    },
    "kernelspec": {
      "name": "python3",
      "display_name": "Python 3"
    },
    "language_info": {
      "name": "python"
    }
  },
  "cells": [
    {
      "cell_type": "markdown",
      "metadata": {
        "id": "view-in-github",
        "colab_type": "text"
      },
      "source": [
        "<a href=\"https://colab.research.google.com/github/ccraig3/ece697-mri-denoising/blob/main/dicom_to_images.ipynb\" target=\"_parent\"><img src=\"https://colab.research.google.com/assets/colab-badge.svg\" alt=\"Open In Colab\"/></a>"
      ]
    },
    {
      "cell_type": "code",
      "source": [
        "import os\n",
        "from pathlib import Path"
      ],
      "metadata": {
        "id": "aVUHEvxt__A4"
      },
      "execution_count": 30,
      "outputs": []
    },
    {
      "cell_type": "code",
      "execution_count": 31,
      "metadata": {
        "id": "vgG0kB899F6a"
      },
      "outputs": [],
      "source": [
        "dir_path = r'/content/drive/MyDrive/ECE697/data/share/knee_mri_dicom_batch2/knee_mri_clinical_seq_batch2'"
      ]
    },
    {
      "cell_type": "code",
      "source": [
        "paths = [os.fspath(path) for path in list(Path(dir_path).rglob(\"*.dcm\"))]"
      ],
      "metadata": {
        "id": "3wkq0QrDBrsn"
      },
      "execution_count": null,
      "outputs": []
    },
    {
      "cell_type": "code",
      "source": [
        "import pickle\n",
        "\n",
        "pathfile = open(os.path.join(dir_path, 'paths.pkl'), 'ab')\n",
        "pickle.dump(paths, pathfile)\n",
        "pathfile.close()"
      ],
      "metadata": {
        "id": "TB-EMg_oCBIg"
      },
      "execution_count": null,
      "outputs": []
    }
  ]
}